{
 "cells": [
  {
   "cell_type": "code",
   "execution_count": null,
   "metadata": {},
   "outputs": [],
   "source": []
  },
  {
   "cell_type": "markdown",
   "metadata": {},
   "source": [
    "# What is Data Preprocessing?"
   ]
  },
  {
   "cell_type": "markdown",
   "metadata": {},
   "source": [
    "### Data preprocessing is a step in the data mining and data analysis process that takes raw data and transforms it into a format that can be understood and analyzed by computers and machine learning."
   ]
  },
  {
   "cell_type": "markdown",
   "metadata": {},
   "source": [
    "### When we talk about data, we usually think of some large datasets with some rows and columns. While that is a likely scenario, it is not always the case — data could be in so many different forms: Structured Tables, Images, Audio files, Videos, etc."
   ]
  },
  {
   "cell_type": "markdown",
   "metadata": {},
   "source": [
    "### Machines don’t understand text, image, or video data as it is, they understand 1s and 0s. Real-world data also contains noises, missing values, etc. which cannot be directly used for ML models"
   ]
  },
  {
   "cell_type": "markdown",
   "metadata": {},
   "source": [
    "### Hence, data preprocessing is required for cleaning the data and making it suitable for an ML model which increases the accuracy and efficiency of the model.\n",
    "\n",
    "### It involves the following steps:"
   ]
  },
  {
   "cell_type": "markdown",
   "metadata": {},
   "source": [
    "## 1-Getting the Dataset"
   ]
  },
  {
   "cell_type": "markdown",
   "metadata": {},
   "source": [
    "## 2-Importing Libraries"
   ]
  },
  {
   "cell_type": "markdown",
   "metadata": {},
   "source": [
    "## 3-Importing Dataset"
   ]
  },
  {
   "cell_type": "markdown",
   "metadata": {},
   "source": []
  },
  {
   "cell_type": "markdown",
   "metadata": {},
   "source": [
    "## 4-Data Quality Assessment:\n",
    "### i) Finding and Processing Missing/Inconsistent/Duplicate Data\n",
    "### ii) Data Outliers"
   ]
  },
  {
   "cell_type": "code",
   "execution_count": null,
   "metadata": {},
   "outputs": [],
   "source": [
    "# <<handiling missing values>>\n",
    "\n",
    "# Check for missing values:\n",
    "# df.isnull().sum()\n",
    "# ● Drop rows with missing values: \n",
    "#df.dropna()\n",
    "# ● Fill missing values with a specific value: \n",
    "#df.fillna(value)\n",
    "# ● Fill missing values with mean: \n",
    "#df.fillna(df.mean())\n",
    "\n",
    "# ● Fill missing values with median: \n",
    "#df.fillna(df.median())\n",
    "# ● Fill missing values with mode: \n",
    "#df.fillna(df.mode().iloc[0])"
   ]
  },
  {
   "cell_type": "code",
   "execution_count": 1,
   "metadata": {},
   "outputs": [],
   "source": [
    "# Duplicate Data\n",
    "# df.duplicated().sum()\n",
    "# delete it\n",
    "#.drop_duplicates()"
   ]
  },
  {
   "cell_type": "code",
   "execution_count": null,
   "metadata": {},
   "outputs": [],
   "source": [
    "#  Handling Outliers\n",
    "\n",
    "# ● Identify outliers using Z-score: \n",
    "#from scipy.stats import zscore;\n",
    "# df[np.abs(zscore(df['column_name'])) > 3]\n",
    "# ● Remove outliers: \n",
    "#df = df[(df['column_name'] >= lower_bound) & (df['column_name'] <= upper_bound)]\n",
    "# "
   ]
  },
  {
   "cell_type": "markdown",
   "metadata": {},
   "source": [
    "## 5-Feature Encoding:\n",
    "### i) Label Encoding (Ordinal Data)\n",
    "### ii) One-Hot Encoding (Nominal Data)"
   ]
  },
  {
   "cell_type": "code",
   "execution_count": null,
   "metadata": {},
   "outputs": [],
   "source": [
    "# Label encoding\n",
    "#from sklearn.preprocessing import LabelEncoder \n",
    "# LabelEncoder().fit_transform(df['column_name'])\n",
    "\n",
    "\n",
    "# One-hot encoding: \n",
    "# pd.get_dummies(df, columns=['column_name'])\n",
    "\n"
   ]
  },
  {
   "cell_type": "markdown",
   "metadata": {},
   "source": [
    "## 6- scalling and normalization"
   ]
  },
  {
   "cell_type": "code",
   "execution_count": null,
   "metadata": {},
   "outputs": [],
   "source": [
    "# ● Min-max scaling: \n",
    "#from sklearn.preprocessing import MinMaxScaler\n",
    "# MinMaxScaler().fit_transform(df[['column_name']])\n",
    "\n",
    "# ● Standard scaling (Z-score normalization): \n",
    "#from sklearn.preprocessing import StandardScaler;\n",
    "# StandardScaler().fit_transform(df[['column_name']])\n",
    "\n",
    "# ● Normalization (L1, L2, Max): \n",
    "#from sklearn.preprocessing import Normalizer;\n",
    "# Normalizer(norm='l1').fit_transform(df[['column_name']])\n"
   ]
  }
 ],
 "metadata": {
  "kernelspec": {
   "display_name": "Python 3",
   "language": "python",
   "name": "python3"
  },
  "language_info": {
   "codemirror_mode": {
    "name": "ipython",
    "version": 3
   },
   "file_extension": ".py",
   "mimetype": "text/x-python",
   "name": "python",
   "nbconvert_exporter": "python",
   "pygments_lexer": "ipython3",
   "version": "3.12.2"
  }
 },
 "nbformat": 4,
 "nbformat_minor": 2
}
